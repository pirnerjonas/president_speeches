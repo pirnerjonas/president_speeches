{
 "nbformat": 4,
 "nbformat_minor": 2,
 "metadata": {
  "language_info": {
   "name": "python",
   "codemirror_mode": {
    "name": "ipython",
    "version": 3
   }
  },
  "orig_nbformat": 2,
  "file_extension": ".py",
  "mimetype": "text/x-python",
  "name": "python",
  "npconvert_exporter": "python",
  "pygments_lexer": "ipython3",
  "version": 3
 },
 "cells": [
  {
   "cell_type": "code",
   "execution_count": null,
   "metadata": {},
   "outputs": [],
   "source": [
    "import matplotlib.pyplot as plt\n",
    "import nltk\n",
    "import re\n",
    "import numpy as np\n",
    "import pandas as pd\n",
    "import seaborn as sns\n",
    "import spacy\n",
    "from itertools import chain\n",
    "from nltk.corpus import inaugural\n",
    "from sklearn.feature_extraction.text import TfidfVectorizer"
   ]
  },
  {
   "cell_type": "code",
   "execution_count": null,
   "metadata": {},
   "outputs": [],
   "source": [
    "# set seaborn settings\n",
    "sns.set(font='serif', style='whitegrid')\n",
    "\n",
    "# define colors for war and peace\n",
    "color_peace =\"#2ecc71\"\n",
    "color_war = \"#e74c3c\""
   ]
  },
  {
   "cell_type": "code",
   "execution_count": null,
   "metadata": {},
   "outputs": [],
   "source": [
    "# load spacy model\n",
    "nlp = spacy.load(\"en_core_web_sm\")"
   ]
  },
  {
   "cell_type": "code",
   "execution_count": null,
   "metadata": {},
   "outputs": [],
   "source": [
    "# load speech texts\n",
    "president_speeches = [inaugural.raw(fileid) for fileid in inaugural.fileids()]"
   ]
  },
  {
   "cell_type": "code",
   "execution_count": null,
   "metadata": {},
   "outputs": [],
   "source": [
    "# with this function I extract the nouns of the corpus\n",
    "def extract_topics(text):\n",
    "    doc = nlp(text)\n",
    "    token_list = []\n",
    "    for sent in doc.sents:\n",
    "        for tok in sent:\n",
    "            if not tok.is_stop and tok.pos_ == 'NOUN':\n",
    "                # lemma and lower the noun\n",
    "                token_list.append(tok.lemma_.lower())\n",
    "    return token_list"
   ]
  },
  {
   "cell_type": "code",
   "execution_count": null,
   "metadata": {},
   "outputs": [],
   "source": [
    "# transform the data to tfidf\n",
    "def create_tfidf(president_topics):\n",
    "    # use the already tokenized list from spacy\n",
    "    count = TfidfVectorizer(analyzer=lambda x:x)\n",
    "    bag_of_words = count.fit_transform(president_topics)\n",
    "    feature_names = count.get_feature_names()\n",
    "    tfidf_df = pd.DataFrame(bag_of_words.toarray(), columns=feature_names).T\n",
    "    # change columns to just the years\n",
    "    tfidf_df.columns = [fieldid[:4] for fieldid in inaugural.fileids()]\n",
    "    return tfidf_df"
   ]
  },
  {
   "cell_type": "code",
   "execution_count": null,
   "metadata": {},
   "outputs": [],
   "source": [
    "# plots the N most frequent nouns\n",
    "def plot_most_frequent_nouns(president_topics, TOP_N):\n",
    "    freq_dist = nltk.FreqDist(chain.from_iterable(president_topics))\n",
    "    aspects, values = zip(*freq_dist.most_common()[:TOP_N])\n",
    "    fig, ax = plt.subplots()\n",
    "    color_list = list(np.repeat('gray',15))\n",
    "    # set colors for war and peace\n",
    "    color_list[9] = color_peace\n",
    "    color_list[14] = color_war\n",
    "    ax.barh(list(aspects), list(values),color=color_list)\n",
    "    ax.set_xlabel('Frequency')\n",
    "    ax.set_title('Most common nouns/topics')\n",
    "    fig.tight_layout()\n",
    "    fig.savefig('images/most_frequent_nouns.png')"
   ]
  },
  {
   "cell_type": "code",
   "execution_count": null,
   "metadata": {},
   "outputs": [],
   "source": [
    "# plot the tfidf of the nouns war and peace over time\n",
    "def plot_war_and_peace_time(data):\n",
    "    fig, ax = plt.subplots(figsize=(12,4))\n",
    "    ax.plot(data.loc['war',:], color=color_war)\n",
    "    ax.plot(data.loc['peace',:], color=color_peace)\n",
    "    ax.legend()\n",
    "    ax.set_ylabel('TfIdf Score')\n",
    "    ax.annotate('War of 1812', xy=('1817', 0.35))\n",
    "    ax.annotate('American Civil War', xy=('1869', 0.37))\n",
    "    #ax.annotate('World War I', xy=('1909', 0.18))\n",
    "    ax.annotate('World War II', xy=('1937', 0.22))\n",
    "    ax.annotate('Vietnam War', xy=('1965', 0.35))\n",
    "    ax.legend(title='Noun', shadow=True, fancybox=True)\n",
    "    ax.set_title('Importance of war and peace over time')\n",
    "    plt.xticks(rotation=45)\n",
    "    fig.tight_layout()\n",
    "    fig.savefig('images/war_and_peace_time.png')"
   ]
  },
  {
   "cell_type": "code",
   "execution_count": null,
   "metadata": {},
   "outputs": [],
   "source": [
    "# plot the top N words (tfidf) for the four peak points\n",
    "def plot_words_peek_years(data, TOP_N):\n",
    "    president_list = ['Madison', 'Lincoln', 'Eisenhower','Nixon']\n",
    "    year_list = [1813, 1865, 1957, 1973]\n",
    "    color_list = [color_war, color_war, color_peace, color_peace]\n",
    "    row_ind = [0,0,1,1]\n",
    "    col_ind = [0,1,0,1]\n",
    "    fig, ax = plt.subplots(ncols=2,nrows=2, sharex=True)\n",
    "    fig.suptitle('Most important nouns/topics for peak speeches')\n",
    "    for president, year, color, i, j in zip(president_list, year_list, \n",
    "                                            color_list, row_ind, col_ind):\n",
    "        # top words with corresponding tfidf\n",
    "        d = data.loc[:,str(year)].sort_values(ascending=False).reset_index()[:TOP_N]\n",
    "        ax[i,j].barh(d.iloc[:,0],d.iloc[:,1],color=color)\n",
    "        ax[i,j].set_title(f'{president} {year}')\n",
    "    ax[1,1].set_xlabel('tfidf score')\n",
    "    ax[1,0].set_xlabel('tfidf score')\n",
    "    fig.tight_layout(rect=[0, 0.03, 1, 0.95])\n",
    "    fig.savefig('images/peek_years.png')"
   ]
  },
  {
   "cell_type": "code",
   "execution_count": null,
   "metadata": {},
   "outputs": [],
   "source": [
    "# extract topics\n",
    "president_topics = [extract_topics(speech) for speech in president_speeches]\n",
    "# create tfidf dataframe\n",
    "tfidf_df = create_tfidf(president_topics)\n",
    "\n",
    "# create the plots\n",
    "plot_most_frequent_nouns(president_topics, TOP_N=16)\n",
    "plot_war_and_peace_time(tfidf_df)\n",
    "plot_words_peek_years(tfidf_df, TOP_N=8)"
   ]
  }
 ]
}